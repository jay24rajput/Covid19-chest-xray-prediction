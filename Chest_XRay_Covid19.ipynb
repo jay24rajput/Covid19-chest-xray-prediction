{
  "nbformat": 4,
  "nbformat_minor": 0,
  "metadata": {
    "colab": {
      "name": "Chest-XRay-Covid19.ipynb",
      "provenance": [],
      "collapsed_sections": [],
      "authorship_tag": "ABX9TyMdV97NbFUIeCadaXPelLS/",
      "include_colab_link": true
    },
    "kernelspec": {
      "name": "python3",
      "display_name": "Python 3"
    },
    "accelerator": "GPU"
  },
  "cells": [
    {
      "cell_type": "markdown",
      "metadata": {
        "id": "view-in-github",
        "colab_type": "text"
      },
      "source": [
        "<a href=\"https://colab.research.google.com/github/jay24rajput/Covid19-chest-xray-prediction/blob/master/Chest_XRay_Covid19.ipynb\" target=\"_parent\"><img src=\"https://colab.research.google.com/assets/colab-badge.svg\" alt=\"Open In Colab\"/></a>"
      ]
    },
    {
      "cell_type": "markdown",
      "metadata": {
        "id": "VFL9Cj6XfGwS",
        "colab_type": "text"
      },
      "source": [
        "## Download the data "
      ]
    },
    {
      "cell_type": "code",
      "metadata": {
        "id": "-1OcKTx-e81V",
        "colab_type": "code",
        "colab": {
          "base_uri": "https://localhost:8080/",
          "height": 119
        },
        "outputId": "dedfbf03-cb59-4999-d5f2-89c85b3f3118"
      },
      "source": [
        "! git clone https://github.com/ieee8023/covid-chestxray-dataset.git"
      ],
      "execution_count": 1,
      "outputs": [
        {
          "output_type": "stream",
          "text": [
            "Cloning into 'covid-chestxray-dataset'...\n",
            "remote: Enumerating objects: 3687, done.\u001b[K\n",
            "remote: Total 3687 (delta 0), reused 0 (delta 0), pack-reused 3687\u001b[K\n",
            "Receiving objects: 100% (3687/3687), 715.78 MiB | 23.42 MiB/s, done.\n",
            "Resolving deltas: 100% (1457/1457), done.\n",
            "Checking out files: 100% (1152/1152), done.\n"
          ],
          "name": "stdout"
        }
      ]
    },
    {
      "cell_type": "markdown",
      "metadata": {
        "id": "WNZOBv3MFNQq",
        "colab_type": "text"
      },
      "source": [
        "## Getting all the required images"
      ]
    },
    {
      "cell_type": "code",
      "metadata": {
        "id": "b-HG9zQ_fMxJ",
        "colab_type": "code",
        "colab": {}
      },
      "source": [
        "import os \n",
        "import pandas as pd\n",
        "import numpy as np"
      ],
      "execution_count": 2,
      "outputs": []
    },
    {
      "cell_type": "code",
      "metadata": {
        "id": "jMfYPFUHFXh8",
        "colab_type": "code",
        "colab": {}
      },
      "source": [
        "df = pd.read_csv('covid-chestxray-dataset/metadata.csv')"
      ],
      "execution_count": 3,
      "outputs": []
    },
    {
      "cell_type": "code",
      "metadata": {
        "id": "mD5nhsLFFia8",
        "colab_type": "code",
        "colab": {
          "base_uri": "https://localhost:8080/",
          "height": 1000
        },
        "outputId": "b1f13418-7615-46d1-f7cd-e0dd2560dfc7"
      },
      "source": [
        "df"
      ],
      "execution_count": 4,
      "outputs": [
        {
          "output_type": "execute_result",
          "data": {
            "text/html": [
              "<div>\n",
              "<style scoped>\n",
              "    .dataframe tbody tr th:only-of-type {\n",
              "        vertical-align: middle;\n",
              "    }\n",
              "\n",
              "    .dataframe tbody tr th {\n",
              "        vertical-align: top;\n",
              "    }\n",
              "\n",
              "    .dataframe thead th {\n",
              "        text-align: right;\n",
              "    }\n",
              "</style>\n",
              "<table border=\"1\" class=\"dataframe\">\n",
              "  <thead>\n",
              "    <tr style=\"text-align: right;\">\n",
              "      <th></th>\n",
              "      <th>patientid</th>\n",
              "      <th>offset</th>\n",
              "      <th>sex</th>\n",
              "      <th>age</th>\n",
              "      <th>finding</th>\n",
              "      <th>RT_PCR_positive</th>\n",
              "      <th>survival</th>\n",
              "      <th>intubated</th>\n",
              "      <th>intubation_present</th>\n",
              "      <th>went_icu</th>\n",
              "      <th>in_icu</th>\n",
              "      <th>needed_supplemental_O2</th>\n",
              "      <th>extubated</th>\n",
              "      <th>temperature</th>\n",
              "      <th>pO2_saturation</th>\n",
              "      <th>leukocyte_count</th>\n",
              "      <th>neutrophil_count</th>\n",
              "      <th>lymphocyte_count</th>\n",
              "      <th>view</th>\n",
              "      <th>modality</th>\n",
              "      <th>date</th>\n",
              "      <th>location</th>\n",
              "      <th>folder</th>\n",
              "      <th>filename</th>\n",
              "      <th>doi</th>\n",
              "      <th>url</th>\n",
              "      <th>license</th>\n",
              "      <th>clinical_notes</th>\n",
              "      <th>other_notes</th>\n",
              "    </tr>\n",
              "  </thead>\n",
              "  <tbody>\n",
              "    <tr>\n",
              "      <th>0</th>\n",
              "      <td>2</td>\n",
              "      <td>0.0</td>\n",
              "      <td>M</td>\n",
              "      <td>65.0</td>\n",
              "      <td>COVID-19</td>\n",
              "      <td>Y</td>\n",
              "      <td>Y</td>\n",
              "      <td>N</td>\n",
              "      <td>N</td>\n",
              "      <td>N</td>\n",
              "      <td>N</td>\n",
              "      <td>Y</td>\n",
              "      <td>NaN</td>\n",
              "      <td>NaN</td>\n",
              "      <td>NaN</td>\n",
              "      <td>NaN</td>\n",
              "      <td>NaN</td>\n",
              "      <td>NaN</td>\n",
              "      <td>PA</td>\n",
              "      <td>X-ray</td>\n",
              "      <td>January 22, 2020</td>\n",
              "      <td>Cho Ray Hospital, Ho Chi Minh City, Vietnam</td>\n",
              "      <td>images</td>\n",
              "      <td>auntminnie-a-2020_01_28_23_51_6665_2020_01_28_...</td>\n",
              "      <td>10.1056/nejmc2001272</td>\n",
              "      <td>https://www.nejm.org/doi/full/10.1056/NEJMc200...</td>\n",
              "      <td>NaN</td>\n",
              "      <td>On January 22, 2020, a 65-year-old man with a ...</td>\n",
              "      <td>NaN</td>\n",
              "    </tr>\n",
              "    <tr>\n",
              "      <th>1</th>\n",
              "      <td>2</td>\n",
              "      <td>3.0</td>\n",
              "      <td>M</td>\n",
              "      <td>65.0</td>\n",
              "      <td>COVID-19</td>\n",
              "      <td>Y</td>\n",
              "      <td>Y</td>\n",
              "      <td>N</td>\n",
              "      <td>N</td>\n",
              "      <td>N</td>\n",
              "      <td>N</td>\n",
              "      <td>Y</td>\n",
              "      <td>NaN</td>\n",
              "      <td>NaN</td>\n",
              "      <td>NaN</td>\n",
              "      <td>NaN</td>\n",
              "      <td>NaN</td>\n",
              "      <td>NaN</td>\n",
              "      <td>PA</td>\n",
              "      <td>X-ray</td>\n",
              "      <td>January 25, 2020</td>\n",
              "      <td>Cho Ray Hospital, Ho Chi Minh City, Vietnam</td>\n",
              "      <td>images</td>\n",
              "      <td>auntminnie-b-2020_01_28_23_51_6665_2020_01_28_...</td>\n",
              "      <td>10.1056/nejmc2001272</td>\n",
              "      <td>https://www.nejm.org/doi/full/10.1056/NEJMc200...</td>\n",
              "      <td>NaN</td>\n",
              "      <td>On January 22, 2020, a 65-year-old man with a ...</td>\n",
              "      <td>NaN</td>\n",
              "    </tr>\n",
              "    <tr>\n",
              "      <th>2</th>\n",
              "      <td>2</td>\n",
              "      <td>5.0</td>\n",
              "      <td>M</td>\n",
              "      <td>65.0</td>\n",
              "      <td>COVID-19</td>\n",
              "      <td>Y</td>\n",
              "      <td>Y</td>\n",
              "      <td>N</td>\n",
              "      <td>N</td>\n",
              "      <td>N</td>\n",
              "      <td>N</td>\n",
              "      <td>Y</td>\n",
              "      <td>NaN</td>\n",
              "      <td>NaN</td>\n",
              "      <td>NaN</td>\n",
              "      <td>NaN</td>\n",
              "      <td>NaN</td>\n",
              "      <td>NaN</td>\n",
              "      <td>PA</td>\n",
              "      <td>X-ray</td>\n",
              "      <td>January 27, 2020</td>\n",
              "      <td>Cho Ray Hospital, Ho Chi Minh City, Vietnam</td>\n",
              "      <td>images</td>\n",
              "      <td>auntminnie-c-2020_01_28_23_51_6665_2020_01_28_...</td>\n",
              "      <td>10.1056/nejmc2001272</td>\n",
              "      <td>https://www.nejm.org/doi/full/10.1056/NEJMc200...</td>\n",
              "      <td>NaN</td>\n",
              "      <td>On January 22, 2020, a 65-year-old man with a ...</td>\n",
              "      <td>NaN</td>\n",
              "    </tr>\n",
              "    <tr>\n",
              "      <th>3</th>\n",
              "      <td>2</td>\n",
              "      <td>6.0</td>\n",
              "      <td>M</td>\n",
              "      <td>65.0</td>\n",
              "      <td>COVID-19</td>\n",
              "      <td>Y</td>\n",
              "      <td>Y</td>\n",
              "      <td>N</td>\n",
              "      <td>N</td>\n",
              "      <td>N</td>\n",
              "      <td>N</td>\n",
              "      <td>Y</td>\n",
              "      <td>NaN</td>\n",
              "      <td>NaN</td>\n",
              "      <td>NaN</td>\n",
              "      <td>NaN</td>\n",
              "      <td>NaN</td>\n",
              "      <td>NaN</td>\n",
              "      <td>PA</td>\n",
              "      <td>X-ray</td>\n",
              "      <td>January 28, 2020</td>\n",
              "      <td>Cho Ray Hospital, Ho Chi Minh City, Vietnam</td>\n",
              "      <td>images</td>\n",
              "      <td>auntminnie-d-2020_01_28_23_51_6665_2020_01_28_...</td>\n",
              "      <td>10.1056/nejmc2001272</td>\n",
              "      <td>https://www.nejm.org/doi/full/10.1056/NEJMc200...</td>\n",
              "      <td>NaN</td>\n",
              "      <td>On January 22, 2020, a 65-year-old man with a ...</td>\n",
              "      <td>NaN</td>\n",
              "    </tr>\n",
              "    <tr>\n",
              "      <th>4</th>\n",
              "      <td>4</td>\n",
              "      <td>0.0</td>\n",
              "      <td>F</td>\n",
              "      <td>52.0</td>\n",
              "      <td>COVID-19</td>\n",
              "      <td>Y</td>\n",
              "      <td>NaN</td>\n",
              "      <td>N</td>\n",
              "      <td>N</td>\n",
              "      <td>N</td>\n",
              "      <td>N</td>\n",
              "      <td>N</td>\n",
              "      <td>NaN</td>\n",
              "      <td>NaN</td>\n",
              "      <td>NaN</td>\n",
              "      <td>NaN</td>\n",
              "      <td>NaN</td>\n",
              "      <td>NaN</td>\n",
              "      <td>PA</td>\n",
              "      <td>X-ray</td>\n",
              "      <td>January 25, 2020</td>\n",
              "      <td>Changhua Christian Hospital, Changhua City, Ta...</td>\n",
              "      <td>images</td>\n",
              "      <td>nejmc2001573_f1a.jpeg</td>\n",
              "      <td>10.1056/NEJMc2001573</td>\n",
              "      <td>https://www.nejm.org/doi/full/10.1056/NEJMc200...</td>\n",
              "      <td>NaN</td>\n",
              "      <td>diffuse infiltrates in the bilateral lower lungs</td>\n",
              "      <td>NaN</td>\n",
              "    </tr>\n",
              "    <tr>\n",
              "      <th>...</th>\n",
              "      <td>...</td>\n",
              "      <td>...</td>\n",
              "      <td>...</td>\n",
              "      <td>...</td>\n",
              "      <td>...</td>\n",
              "      <td>...</td>\n",
              "      <td>...</td>\n",
              "      <td>...</td>\n",
              "      <td>...</td>\n",
              "      <td>...</td>\n",
              "      <td>...</td>\n",
              "      <td>...</td>\n",
              "      <td>...</td>\n",
              "      <td>...</td>\n",
              "      <td>...</td>\n",
              "      <td>...</td>\n",
              "      <td>...</td>\n",
              "      <td>...</td>\n",
              "      <td>...</td>\n",
              "      <td>...</td>\n",
              "      <td>...</td>\n",
              "      <td>...</td>\n",
              "      <td>...</td>\n",
              "      <td>...</td>\n",
              "      <td>...</td>\n",
              "      <td>...</td>\n",
              "      <td>...</td>\n",
              "      <td>...</td>\n",
              "      <td>...</td>\n",
              "    </tr>\n",
              "    <tr>\n",
              "      <th>925</th>\n",
              "      <td>468</td>\n",
              "      <td>NaN</td>\n",
              "      <td>F</td>\n",
              "      <td>50.0</td>\n",
              "      <td>Pneumonia</td>\n",
              "      <td>NaN</td>\n",
              "      <td>NaN</td>\n",
              "      <td>NaN</td>\n",
              "      <td>NaN</td>\n",
              "      <td>NaN</td>\n",
              "      <td>NaN</td>\n",
              "      <td>NaN</td>\n",
              "      <td>NaN</td>\n",
              "      <td>NaN</td>\n",
              "      <td>NaN</td>\n",
              "      <td>NaN</td>\n",
              "      <td>NaN</td>\n",
              "      <td>NaN</td>\n",
              "      <td>L</td>\n",
              "      <td>X-ray</td>\n",
              "      <td>NaN</td>\n",
              "      <td>Adelaide, Australia</td>\n",
              "      <td>images</td>\n",
              "      <td>e0e3a6526a3fecadfca2be13242798_jumbo.jpg</td>\n",
              "      <td>NaN</td>\n",
              "      <td>https://radiopaedia.org/cases/left-lower-lobe-...</td>\n",
              "      <td>CC BY-NC-SA</td>\n",
              "      <td>Shortness of breath, fever and rigors Opacity ...</td>\n",
              "      <td>Case courtesy of Dr Thuan Tzen, Koh, Radiopaed...</td>\n",
              "    </tr>\n",
              "    <tr>\n",
              "      <th>926</th>\n",
              "      <td>469</td>\n",
              "      <td>NaN</td>\n",
              "      <td>F</td>\n",
              "      <td>25.0</td>\n",
              "      <td>Pneumonia</td>\n",
              "      <td>NaN</td>\n",
              "      <td>NaN</td>\n",
              "      <td>NaN</td>\n",
              "      <td>NaN</td>\n",
              "      <td>NaN</td>\n",
              "      <td>NaN</td>\n",
              "      <td>NaN</td>\n",
              "      <td>NaN</td>\n",
              "      <td>NaN</td>\n",
              "      <td>NaN</td>\n",
              "      <td>NaN</td>\n",
              "      <td>NaN</td>\n",
              "      <td>NaN</td>\n",
              "      <td>PA</td>\n",
              "      <td>X-ray</td>\n",
              "      <td>NaN</td>\n",
              "      <td>Calgary, Canada</td>\n",
              "      <td>images</td>\n",
              "      <td>2264f643b18b1010ec10a850f17550_jumbo.jpeg</td>\n",
              "      <td>NaN</td>\n",
              "      <td>https://radiopaedia.org/cases/silhouette-sign-...</td>\n",
              "      <td>CC BY-NC-SA</td>\n",
              "      <td>A young woman is sent with a diagnosis of pneu...</td>\n",
              "      <td>Case courtesy of Dr Garth Kruger, Radiopaedia....</td>\n",
              "    </tr>\n",
              "    <tr>\n",
              "      <th>927</th>\n",
              "      <td>469</td>\n",
              "      <td>NaN</td>\n",
              "      <td>F</td>\n",
              "      <td>25.0</td>\n",
              "      <td>Pneumonia</td>\n",
              "      <td>NaN</td>\n",
              "      <td>NaN</td>\n",
              "      <td>NaN</td>\n",
              "      <td>NaN</td>\n",
              "      <td>NaN</td>\n",
              "      <td>NaN</td>\n",
              "      <td>NaN</td>\n",
              "      <td>NaN</td>\n",
              "      <td>NaN</td>\n",
              "      <td>NaN</td>\n",
              "      <td>NaN</td>\n",
              "      <td>NaN</td>\n",
              "      <td>NaN</td>\n",
              "      <td>L</td>\n",
              "      <td>X-ray</td>\n",
              "      <td>NaN</td>\n",
              "      <td>Calgary, Canada</td>\n",
              "      <td>images</td>\n",
              "      <td>800f798a58d0cbcc72eb234f192461_jumbo.jpeg</td>\n",
              "      <td>NaN</td>\n",
              "      <td>https://radiopaedia.org/cases/silhouette-sign-...</td>\n",
              "      <td>CC BY-NC-SA</td>\n",
              "      <td>A young woman is sent with a diagnosis of pneu...</td>\n",
              "      <td>Case courtesy of Dr Garth Kruger, Radiopaedia....</td>\n",
              "    </tr>\n",
              "    <tr>\n",
              "      <th>928</th>\n",
              "      <td>470</td>\n",
              "      <td>NaN</td>\n",
              "      <td>M</td>\n",
              "      <td>55.0</td>\n",
              "      <td>Pneumonia</td>\n",
              "      <td>NaN</td>\n",
              "      <td>NaN</td>\n",
              "      <td>NaN</td>\n",
              "      <td>NaN</td>\n",
              "      <td>NaN</td>\n",
              "      <td>NaN</td>\n",
              "      <td>NaN</td>\n",
              "      <td>NaN</td>\n",
              "      <td>NaN</td>\n",
              "      <td>NaN</td>\n",
              "      <td>NaN</td>\n",
              "      <td>NaN</td>\n",
              "      <td>NaN</td>\n",
              "      <td>PA</td>\n",
              "      <td>X-ray</td>\n",
              "      <td>NaN</td>\n",
              "      <td>Melbourne, Australia</td>\n",
              "      <td>images</td>\n",
              "      <td>55f5189d2c23688ac8dc1d58eb65cf_jumbo.jpg</td>\n",
              "      <td>NaN</td>\n",
              "      <td>https://radiopaedia.org/cases/left-lower-lobe-...</td>\n",
              "      <td>CC BY-NC-SA</td>\n",
              "      <td>Productive cough and fever Region of consolida...</td>\n",
              "      <td>Case courtesy of Dr Andrew Dixon, Radiopaedia....</td>\n",
              "    </tr>\n",
              "    <tr>\n",
              "      <th>929</th>\n",
              "      <td>470</td>\n",
              "      <td>NaN</td>\n",
              "      <td>M</td>\n",
              "      <td>55.0</td>\n",
              "      <td>Pneumonia</td>\n",
              "      <td>NaN</td>\n",
              "      <td>NaN</td>\n",
              "      <td>NaN</td>\n",
              "      <td>NaN</td>\n",
              "      <td>NaN</td>\n",
              "      <td>NaN</td>\n",
              "      <td>NaN</td>\n",
              "      <td>NaN</td>\n",
              "      <td>NaN</td>\n",
              "      <td>NaN</td>\n",
              "      <td>NaN</td>\n",
              "      <td>NaN</td>\n",
              "      <td>NaN</td>\n",
              "      <td>L</td>\n",
              "      <td>X-ray</td>\n",
              "      <td>NaN</td>\n",
              "      <td>Melbourne, Australia</td>\n",
              "      <td>images</td>\n",
              "      <td>d2cdf41a662113279d2ec21af3a4e2_jumbo.jpg</td>\n",
              "      <td>NaN</td>\n",
              "      <td>https://radiopaedia.org/cases/left-lower-lobe-...</td>\n",
              "      <td>CC BY-NC-SA</td>\n",
              "      <td>Productive cough and fever Region of consolida...</td>\n",
              "      <td>Case courtesy of Dr Andrew Dixon, Radiopaedia....</td>\n",
              "    </tr>\n",
              "  </tbody>\n",
              "</table>\n",
              "<p>930 rows × 29 columns</p>\n",
              "</div>"
            ],
            "text/plain": [
              "    patientid  ...                                        other_notes\n",
              "0           2  ...                                                NaN\n",
              "1           2  ...                                                NaN\n",
              "2           2  ...                                                NaN\n",
              "3           2  ...                                                NaN\n",
              "4           4  ...                                                NaN\n",
              "..        ...  ...                                                ...\n",
              "925       468  ...  Case courtesy of Dr Thuan Tzen, Koh, Radiopaed...\n",
              "926       469  ...  Case courtesy of Dr Garth Kruger, Radiopaedia....\n",
              "927       469  ...  Case courtesy of Dr Garth Kruger, Radiopaedia....\n",
              "928       470  ...  Case courtesy of Dr Andrew Dixon, Radiopaedia....\n",
              "929       470  ...  Case courtesy of Dr Andrew Dixon, Radiopaedia....\n",
              "\n",
              "[930 rows x 29 columns]"
            ]
          },
          "metadata": {
            "tags": []
          },
          "execution_count": 4
        }
      ]
    },
    {
      "cell_type": "markdown",
      "metadata": {
        "id": "rTnoRnNCr--P",
        "colab_type": "text"
      },
      "source": [
        "## Make Folder for covid positive and negative"
      ]
    },
    {
      "cell_type": "code",
      "metadata": {
        "id": "SOy-_cpYIK2j",
        "colab_type": "code",
        "colab": {}
      },
      "source": [
        "os.makedirs('training/positive')\n",
        "os.makedirs('training/negative')\n",
        "os.makedirs('validation/positive')\n",
        "os.makedirs('validation/negative')"
      ],
      "execution_count": 5,
      "outputs": []
    },
    {
      "cell_type": "markdown",
      "metadata": {
        "id": "yZT7isBXs0Bm",
        "colab_type": "text"
      },
      "source": [
        "## Analyze the dataframe and transfer images to folder"
      ]
    },
    {
      "cell_type": "code",
      "metadata": {
        "id": "SYQGVJFCsope",
        "colab_type": "code",
        "colab": {}
      },
      "source": [
        "from shutil import copy\n",
        "repository_path = 'covid-chestxray-dataset'\n",
        "positive_images = []\n",
        "negative_images = []\n",
        "for index in df.index:\n",
        "  image_path = os.path.join(repository_path,df['folder'][index],df['filename'][index])\n",
        "  if image_path.endswith('.jpg') or image_path.endswith('.jpeg') or image_path.endswith('.png'):\n",
        "    if df['finding'][index] == 'COVID-19':\n",
        "      positive_images.append(image_path)\n",
        "    else:\n",
        "      negative_images.append(image_path)"
      ],
      "execution_count": 6,
      "outputs": []
    },
    {
      "cell_type": "code",
      "metadata": {
        "id": "ZgJiRg_gtqwW",
        "colab_type": "code",
        "colab": {
          "base_uri": "https://localhost:8080/",
          "height": 51
        },
        "outputId": "f6f839b2-e9f8-4150-a340-b5dab66755df"
      },
      "source": [
        "print('Postive samples:',len(positive_images))\n",
        "print('Negative samples:',len(negative_images))"
      ],
      "execution_count": 7,
      "outputs": [
        {
          "output_type": "stream",
          "text": [
            "Postive samples: 536\n",
            "Negative samples: 367\n"
          ],
          "name": "stdout"
        }
      ]
    },
    {
      "cell_type": "markdown",
      "metadata": {
        "id": "CQIDky7d7sMS",
        "colab_type": "text"
      },
      "source": [
        "## Classify Images into train and test Director"
      ]
    },
    {
      "cell_type": "code",
      "metadata": {
        "id": "ZplPD3gt7rsi",
        "colab_type": "code",
        "colab": {}
      },
      "source": [
        "import random\n",
        "training_percentage = 0.9\n",
        "\n",
        "# shuffle images randomly \n",
        "random.shuffle(positive_images)\n",
        "random.shuffle(negative_images)"
      ],
      "execution_count": 8,
      "outputs": []
    },
    {
      "cell_type": "code",
      "metadata": {
        "id": "_mHvAeo_8SLm",
        "colab_type": "code",
        "colab": {
          "base_uri": "https://localhost:8080/",
          "height": 34
        },
        "outputId": "51a1ec17-d4f7-4a22-c3db-35e0b9bffd4f"
      },
      "source": [
        "positive_training_length = int(training_percentage * len(positive_images))\n",
        "negative_training_length = int(training_percentage * len(negative_images))\n",
        "\n",
        "print(positive_training_length, negative_training_length)"
      ],
      "execution_count": 9,
      "outputs": [
        {
          "output_type": "stream",
          "text": [
            "482 330\n"
          ],
          "name": "stdout"
        }
      ]
    },
    {
      "cell_type": "code",
      "metadata": {
        "id": "VbBXQhZs90Ko",
        "colab_type": "code",
        "colab": {}
      },
      "source": [
        "def make_directories(type):\n",
        "  if type == 'training':\n",
        "    positive = positive_images[:positive_training_length]\n",
        "    negative = negative_images[:negative_training_length]\n",
        "  elif type == 'validation':\n",
        "    positive = positive_images[positive_training_length:]\n",
        "    negative = negative_images[negative_training_length:]\n",
        "\n",
        "  # copy positive images\n",
        "  destination = os.path.join(type, 'positive')\n",
        "  for image_path in positive:\n",
        "    copy(image_path,destination)\n",
        "\n",
        "  # copy negative images\n",
        "  destination = os.path.join(type, 'negative')\n",
        "  for image_path in negative:\n",
        "    copy(image_path, destination)"
      ],
      "execution_count": 10,
      "outputs": []
    },
    {
      "cell_type": "code",
      "metadata": {
        "id": "B9_m3iW5_vbC",
        "colab_type": "code",
        "colab": {}
      },
      "source": [
        "make_directories('training')\n",
        "make_directories('validation')"
      ],
      "execution_count": 11,
      "outputs": []
    },
    {
      "cell_type": "markdown",
      "metadata": {
        "id": "r1Np1MWaytOr",
        "colab_type": "text"
      },
      "source": [
        "## Make Image Data Generator"
      ]
    },
    {
      "cell_type": "code",
      "metadata": {
        "id": "E0E0OrMtysmO",
        "colab_type": "code",
        "colab": {
          "base_uri": "https://localhost:8080/",
          "height": 51
        },
        "outputId": "f57d522b-bb09-4302-f1cc-f733d7f64c37"
      },
      "source": [
        "from tensorflow.keras.preprocessing.image import ImageDataGenerator\n",
        "\n",
        "train_dir = 'training'\n",
        "validation_dir = 'validation'\n",
        "\n",
        "train_datagen = ImageDataGenerator(rescale = 1./255.,\n",
        "                                   rotation_range = 40,\n",
        "                                   width_shift_range = 0.2,\n",
        "                                   height_shift_range = 0.2,\n",
        "                                   shear_range = 0.2,\n",
        "                                   zoom_range = 0.2,\n",
        "                                   horizontal_flip = True)\n",
        "\n",
        "# Note that the validation data should not be augmented!\n",
        "test_datagen = ImageDataGenerator( rescale = 1.0/255. )\n",
        "\n",
        "# Flow training images in batches of 20 using train_datagen generator\n",
        "train_generator = train_datagen.flow_from_directory(train_dir,\n",
        "                                                    batch_size = 20,\n",
        "                                                    class_mode = 'binary', \n",
        "                                                    target_size = (150, 150))     \n",
        "\n",
        "# Flow validation images in batches of 20 using test_datagen generator\n",
        "validation_generator =  test_datagen.flow_from_directory( validation_dir,\n",
        "                                                          batch_size  = 20,\n",
        "                                                          class_mode  = 'binary', \n",
        "                                                          target_size = (150, 150))"
      ],
      "execution_count": 12,
      "outputs": [
        {
          "output_type": "stream",
          "text": [
            "Found 812 images belonging to 2 classes.\n",
            "Found 91 images belonging to 2 classes.\n"
          ],
          "name": "stdout"
        }
      ]
    },
    {
      "cell_type": "markdown",
      "metadata": {
        "id": "2H-Df1GyCLup",
        "colab_type": "text"
      },
      "source": [
        "## Define the Model"
      ]
    },
    {
      "cell_type": "code",
      "metadata": {
        "id": "Ll1nzAaiBiI3",
        "colab_type": "code",
        "colab": {}
      },
      "source": [
        "import tensorflow as tf\n",
        "\n",
        "model = tf.keras.models.Sequential([\n",
        "    tf.keras.layers.Conv2D(16, (3,3), activation='relu', input_shape=(150, 150, 3)),\n",
        "    tf.keras.layers.MaxPooling2D(2,2),\n",
        "\n",
        "    tf.keras.layers.Conv2D(32, (3,3), activation='relu'),\n",
        "    tf.keras.layers.MaxPooling2D(2,2), \n",
        "\n",
        "    # tf.keras.layers.Conv2D(64, (3,3), activation='relu'), \n",
        "    # tf.keras.layers.MaxPooling2D(2,2),\n",
        "    \n",
        "    tf.keras.layers.Flatten(), \n",
        "    \n",
        "    tf.keras.layers.Dense(256, activation='relu'), \n",
        "\n",
        "    tf.keras.layers.Dense(512, activation='relu'),\n",
        "    \n",
        "    tf.keras.layers.Dense(1, activation='sigmoid')  \n",
        "])"
      ],
      "execution_count": 22,
      "outputs": []
    },
    {
      "cell_type": "markdown",
      "metadata": {
        "id": "xplSu-e-COWs",
        "colab_type": "text"
      },
      "source": [
        "## Compile the Model"
      ]
    },
    {
      "cell_type": "code",
      "metadata": {
        "id": "taM6xUSiB_cR",
        "colab_type": "code",
        "colab": {}
      },
      "source": [
        "from tensorflow.keras.optimizers import RMSprop\n",
        "\n",
        "model.compile(optimizer=RMSprop(lr=0.001),\n",
        "              loss='binary_crossentropy',\n",
        "              metrics = ['accuracy'])"
      ],
      "execution_count": 23,
      "outputs": []
    },
    {
      "cell_type": "code",
      "metadata": {
        "id": "yfc-XdeQCQsN",
        "colab_type": "code",
        "colab": {
          "base_uri": "https://localhost:8080/",
          "height": 1000
        },
        "outputId": "c70dbda4-5eed-48a4-d992-d72d6d4c70bf"
      },
      "source": [
        "history = model.fit(\n",
        "            train_generator,\n",
        "            validation_data = validation_generator,\n",
        "            steps_per_epoch = 41,\n",
        "            epochs = 50,\n",
        "            validation_steps = 5,\n",
        "            verbose = 1)"
      ],
      "execution_count": 24,
      "outputs": [
        {
          "output_type": "stream",
          "text": [
            "Epoch 1/50\n",
            "41/41 [==============================] - 35s 860ms/step - loss: 0.8091 - accuracy: 0.5530 - val_loss: 0.6453 - val_accuracy: 0.5934\n",
            "Epoch 2/50\n",
            "41/41 [==============================] - 35s 848ms/step - loss: 0.6943 - accuracy: 0.5924 - val_loss: 0.6472 - val_accuracy: 0.5934\n",
            "Epoch 3/50\n",
            "41/41 [==============================] - 35s 844ms/step - loss: 0.7002 - accuracy: 0.5837 - val_loss: 0.6789 - val_accuracy: 0.5604\n",
            "Epoch 4/50\n",
            "41/41 [==============================] - 35s 847ms/step - loss: 0.7030 - accuracy: 0.5899 - val_loss: 0.6902 - val_accuracy: 0.4945\n",
            "Epoch 5/50\n",
            "41/41 [==============================] - 35s 851ms/step - loss: 0.6707 - accuracy: 0.5837 - val_loss: 0.6259 - val_accuracy: 0.5934\n",
            "Epoch 6/50\n",
            "41/41 [==============================] - 35s 856ms/step - loss: 0.6804 - accuracy: 0.5998 - val_loss: 0.6414 - val_accuracy: 0.6044\n",
            "Epoch 7/50\n",
            "41/41 [==============================] - 35s 850ms/step - loss: 0.6726 - accuracy: 0.6010 - val_loss: 0.6419 - val_accuracy: 0.5934\n",
            "Epoch 8/50\n",
            "41/41 [==============================] - 34s 840ms/step - loss: 0.6732 - accuracy: 0.5948 - val_loss: 0.6152 - val_accuracy: 0.6703\n",
            "Epoch 9/50\n",
            "41/41 [==============================] - 35s 847ms/step - loss: 0.6592 - accuracy: 0.6145 - val_loss: 0.6160 - val_accuracy: 0.6593\n",
            "Epoch 10/50\n",
            "41/41 [==============================] - 35s 855ms/step - loss: 0.7086 - accuracy: 0.6281 - val_loss: 0.6416 - val_accuracy: 0.5934\n",
            "Epoch 11/50\n",
            "41/41 [==============================] - 35s 853ms/step - loss: 0.6729 - accuracy: 0.6244 - val_loss: 0.6000 - val_accuracy: 0.6813\n",
            "Epoch 12/50\n",
            "41/41 [==============================] - 35s 848ms/step - loss: 0.6614 - accuracy: 0.6170 - val_loss: 0.6623 - val_accuracy: 0.5934\n",
            "Epoch 13/50\n",
            "41/41 [==============================] - 35s 847ms/step - loss: 0.6437 - accuracy: 0.6392 - val_loss: 0.5905 - val_accuracy: 0.7143\n",
            "Epoch 14/50\n",
            "41/41 [==============================] - 35s 853ms/step - loss: 0.6634 - accuracy: 0.6466 - val_loss: 0.6581 - val_accuracy: 0.5934\n",
            "Epoch 15/50\n",
            "41/41 [==============================] - 35s 844ms/step - loss: 0.6572 - accuracy: 0.6182 - val_loss: 0.6788 - val_accuracy: 0.5934\n",
            "Epoch 16/50\n",
            "41/41 [==============================] - 34s 839ms/step - loss: 0.6184 - accuracy: 0.6466 - val_loss: 0.7004 - val_accuracy: 0.6044\n",
            "Epoch 17/50\n",
            "41/41 [==============================] - 34s 841ms/step - loss: 0.6295 - accuracy: 0.6527 - val_loss: 0.6460 - val_accuracy: 0.6154\n",
            "Epoch 18/50\n",
            "41/41 [==============================] - 34s 835ms/step - loss: 0.6246 - accuracy: 0.6466 - val_loss: 0.6160 - val_accuracy: 0.6593\n",
            "Epoch 19/50\n",
            "41/41 [==============================] - 34s 830ms/step - loss: 0.6397 - accuracy: 0.6502 - val_loss: 0.6886 - val_accuracy: 0.6044\n",
            "Epoch 20/50\n",
            "41/41 [==============================] - 34s 826ms/step - loss: 0.6262 - accuracy: 0.6293 - val_loss: 0.6357 - val_accuracy: 0.6923\n",
            "Epoch 21/50\n",
            "41/41 [==============================] - 33s 817ms/step - loss: 0.7558 - accuracy: 0.6466 - val_loss: 0.6879 - val_accuracy: 0.6044\n",
            "Epoch 22/50\n",
            "41/41 [==============================] - 34s 821ms/step - loss: 0.6579 - accuracy: 0.6478 - val_loss: 0.6583 - val_accuracy: 0.5934\n",
            "Epoch 23/50\n",
            "41/41 [==============================] - 33s 801ms/step - loss: 0.6281 - accuracy: 0.6527 - val_loss: 0.5967 - val_accuracy: 0.6813\n",
            "Epoch 24/50\n",
            "41/41 [==============================] - 34s 838ms/step - loss: 0.6289 - accuracy: 0.6527 - val_loss: 0.5683 - val_accuracy: 0.7473\n",
            "Epoch 25/50\n",
            "41/41 [==============================] - 34s 831ms/step - loss: 0.6066 - accuracy: 0.6700 - val_loss: 0.6256 - val_accuracy: 0.6813\n",
            "Epoch 26/50\n",
            "41/41 [==============================] - 34s 835ms/step - loss: 0.6072 - accuracy: 0.6626 - val_loss: 0.5899 - val_accuracy: 0.7143\n",
            "Epoch 27/50\n",
            "41/41 [==============================] - 34s 833ms/step - loss: 0.6055 - accuracy: 0.6761 - val_loss: 0.6109 - val_accuracy: 0.6593\n",
            "Epoch 28/50\n",
            "41/41 [==============================] - 34s 837ms/step - loss: 0.6149 - accuracy: 0.6749 - val_loss: 0.6882 - val_accuracy: 0.6044\n",
            "Epoch 29/50\n",
            "41/41 [==============================] - 34s 830ms/step - loss: 0.6041 - accuracy: 0.6700 - val_loss: 0.7065 - val_accuracy: 0.6264\n",
            "Epoch 30/50\n",
            "41/41 [==============================] - 34s 838ms/step - loss: 0.6052 - accuracy: 0.6773 - val_loss: 0.8181 - val_accuracy: 0.6044\n",
            "Epoch 31/50\n",
            "41/41 [==============================] - 34s 833ms/step - loss: 0.6039 - accuracy: 0.6675 - val_loss: 0.5894 - val_accuracy: 0.7143\n",
            "Epoch 32/50\n",
            "41/41 [==============================] - 34s 821ms/step - loss: 0.6147 - accuracy: 0.6626 - val_loss: 0.5820 - val_accuracy: 0.6703\n",
            "Epoch 33/50\n",
            "41/41 [==============================] - 33s 807ms/step - loss: 0.6094 - accuracy: 0.6650 - val_loss: 0.5467 - val_accuracy: 0.7582\n",
            "Epoch 34/50\n",
            "41/41 [==============================] - 33s 804ms/step - loss: 0.6073 - accuracy: 0.6527 - val_loss: 0.5702 - val_accuracy: 0.6703\n",
            "Epoch 35/50\n",
            "41/41 [==============================] - 34s 819ms/step - loss: 0.6005 - accuracy: 0.6847 - val_loss: 0.5932 - val_accuracy: 0.6923\n",
            "Epoch 36/50\n",
            "41/41 [==============================] - 34s 831ms/step - loss: 0.5928 - accuracy: 0.6847 - val_loss: 0.6362 - val_accuracy: 0.6813\n",
            "Epoch 37/50\n",
            "41/41 [==============================] - 33s 809ms/step - loss: 0.6054 - accuracy: 0.6687 - val_loss: 0.7082 - val_accuracy: 0.6484\n",
            "Epoch 38/50\n",
            "41/41 [==============================] - 34s 823ms/step - loss: 0.6039 - accuracy: 0.6663 - val_loss: 0.5621 - val_accuracy: 0.6813\n",
            "Epoch 39/50\n",
            "41/41 [==============================] - 34s 818ms/step - loss: 0.6049 - accuracy: 0.6983 - val_loss: 0.5849 - val_accuracy: 0.6813\n",
            "Epoch 40/50\n",
            "41/41 [==============================] - 34s 835ms/step - loss: 0.5860 - accuracy: 0.6872 - val_loss: 0.7377 - val_accuracy: 0.6484\n",
            "Epoch 41/50\n",
            "41/41 [==============================] - 34s 824ms/step - loss: 0.6029 - accuracy: 0.6897 - val_loss: 0.5622 - val_accuracy: 0.6923\n",
            "Epoch 42/50\n",
            "41/41 [==============================] - 33s 814ms/step - loss: 0.5809 - accuracy: 0.6933 - val_loss: 0.5648 - val_accuracy: 0.7033\n",
            "Epoch 43/50\n",
            "41/41 [==============================] - 34s 819ms/step - loss: 0.6261 - accuracy: 0.6773 - val_loss: 0.7163 - val_accuracy: 0.6374\n",
            "Epoch 44/50\n",
            "41/41 [==============================] - 34s 825ms/step - loss: 0.5714 - accuracy: 0.6860 - val_loss: 0.5599 - val_accuracy: 0.7033\n",
            "Epoch 45/50\n",
            "41/41 [==============================] - 35s 847ms/step - loss: 0.5897 - accuracy: 0.6933 - val_loss: 0.6134 - val_accuracy: 0.6923\n",
            "Epoch 46/50\n",
            "41/41 [==============================] - 35s 856ms/step - loss: 0.5980 - accuracy: 0.6835 - val_loss: 0.5745 - val_accuracy: 0.6484\n",
            "Epoch 47/50\n",
            "41/41 [==============================] - 35s 856ms/step - loss: 0.5646 - accuracy: 0.7229 - val_loss: 0.6375 - val_accuracy: 0.6813\n",
            "Epoch 48/50\n",
            "41/41 [==============================] - 35s 852ms/step - loss: 0.6009 - accuracy: 0.7044 - val_loss: 0.6181 - val_accuracy: 0.7033\n",
            "Epoch 49/50\n",
            "41/41 [==============================] - 35s 850ms/step - loss: 0.5773 - accuracy: 0.7044 - val_loss: 0.6537 - val_accuracy: 0.6703\n",
            "Epoch 50/50\n",
            "41/41 [==============================] - 34s 833ms/step - loss: 0.5886 - accuracy: 0.6946 - val_loss: 0.5616 - val_accuracy: 0.7253\n"
          ],
          "name": "stdout"
        }
      ]
    },
    {
      "cell_type": "code",
      "metadata": {
        "id": "OyBHzjRfDoAi",
        "colab_type": "code",
        "colab": {
          "base_uri": "https://localhost:8080/",
          "height": 122
        },
        "outputId": "80c4cc5f-35b2-4ed2-cfb3-62388dc8beff"
      },
      "source": [
        "from google.colab import drive\n",
        "drive.mount('/content/drive')"
      ],
      "execution_count": 25,
      "outputs": [
        {
          "output_type": "stream",
          "text": [
            "Go to this URL in a browser: https://accounts.google.com/o/oauth2/auth?client_id=947318989803-6bn6qk8qdgf4n4g3pfee6491hc0brc4i.apps.googleusercontent.com&redirect_uri=urn%3aietf%3awg%3aoauth%3a2.0%3aoob&scope=email%20https%3a%2f%2fwww.googleapis.com%2fauth%2fdocs.test%20https%3a%2f%2fwww.googleapis.com%2fauth%2fdrive%20https%3a%2f%2fwww.googleapis.com%2fauth%2fdrive.photos.readonly%20https%3a%2f%2fwww.googleapis.com%2fauth%2fpeopleapi.readonly&response_type=code\n",
            "\n",
            "Enter your authorization code:\n",
            "··········\n",
            "Mounted at /content/drive\n"
          ],
          "name": "stdout"
        }
      ]
    },
    {
      "cell_type": "code",
      "metadata": {
        "id": "tZ8eIp7yYwsY",
        "colab_type": "code",
        "colab": {}
      },
      "source": [
        "model.save('/content/drive/My Drive/Models/covid-chest-xray.h5')"
      ],
      "execution_count": 26,
      "outputs": []
    }
  ]
}